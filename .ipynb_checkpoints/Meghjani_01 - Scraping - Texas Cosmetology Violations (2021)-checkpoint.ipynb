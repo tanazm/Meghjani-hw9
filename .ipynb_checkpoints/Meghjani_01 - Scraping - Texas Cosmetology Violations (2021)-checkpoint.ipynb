{
 "cells": [
  {
   "cell_type": "markdown",
   "metadata": {},
   "source": [
    "# Texas Cosmetologist Violations\n",
    "\n",
    "Texas has a system for [searching for license violations](https://www.tdlr.texas.gov/cimsfo/fosearch.asp). You're going to search for cosmetologists!"
   ]
  },
  {
   "cell_type": "markdown",
   "metadata": {},
   "source": [
    "## Setup: Import what you'll need to scrape the page\n",
    "\n",
    "We'll be using Selenium for this, *not* BeautifulSoup and requests."
   ]
  },
  {
   "cell_type": "code",
   "execution_count": 1,
   "metadata": {},
   "outputs": [
    {
     "name": "stderr",
     "output_type": "stream",
     "text": [
      "/Users/tanazmeghjani/.pyenv/versions/3.9.7/lib/python3.9/site-packages/pandas/compat/__init__.py:124: UserWarning: Could not import the lzma module. Your installed Python is incomplete. Attempting to use lzma compression will result in a RuntimeError.\n",
      "  warnings.warn(msg)\n",
      "\n",
      "\n",
      "====== WebDriver manager ======\n",
      "Current google-chrome version is 96.0.4664\n",
      "Get LATEST chromedriver version for 96.0.4664 google-chrome\n",
      "Driver [/Users/tanazmeghjani/.wdm/drivers/chromedriver/mac64/96.0.4664.45/chromedriver] found in cache\n",
      "/var/folders/m2/hbrfwp7911s5ykfcv0bl3bcc0000gn/T/ipykernel_27065/1441157587.py:16: DeprecationWarning: executable_path has been deprecated, please pass in a Service object\n",
      "  driver = webdriver.Chrome(ChromeDriverManager().install())\n"
     ]
    }
   ],
   "source": [
    "from bs4 import BeautifulSoup\n",
    "import requests\n",
    "\n",
    "import pandas as pd\n",
    "\n",
    "import time\n",
    "\n",
    "from selenium import webdriver\n",
    "from selenium.webdriver.common.by import By\n",
    "from selenium.webdriver.support.ui import WebDriverWait\n",
    "from selenium.webdriver.support import expected_conditions as EC\n",
    "from selenium.webdriver.support.ui import Select\n",
    "\n",
    "from webdriver_manager.chrome import ChromeDriverManager\n",
    "\n",
    "driver = webdriver.Chrome(ChromeDriverManager().install())"
   ]
  },
  {
   "cell_type": "markdown",
   "metadata": {
    "collapsed": true
   },
   "source": [
    "## Starting your search\n",
    "\n",
    "Starting from [here](https://www.tdlr.texas.gov/cimsfo/fosearch.asp), search for cosmetologist violations for people with the last name **Nguyen**."
   ]
  },
  {
   "cell_type": "code",
   "execution_count": 2,
   "metadata": {},
   "outputs": [],
   "source": [
    "driver.get(\"https://www.tdlr.texas.gov/cimsfo/fosearch.asp\")"
   ]
  },
  {
   "cell_type": "code",
   "execution_count": 3,
   "metadata": {},
   "outputs": [],
   "source": [
    "driver.find_element(By.ID, 'pht_lnm').send_keys('Nguyen')"
   ]
  },
  {
   "cell_type": "code",
   "execution_count": 4,
   "metadata": {},
   "outputs": [],
   "source": [
    "driver.find_element(By.NAME, \"B1\").click()"
   ]
  },
  {
   "cell_type": "code",
   "execution_count": null,
   "metadata": {},
   "outputs": [],
   "source": []
  },
  {
   "cell_type": "code",
   "execution_count": null,
   "metadata": {},
   "outputs": [],
   "source": []
  },
  {
   "cell_type": "markdown",
   "metadata": {},
   "source": [
    "## Scraping\n",
    "\n",
    "Once you are on the results page, do this. **I step you through things bit by bit, so it's going to be a little different than we did in class.** Also, no `pd.read_html` allowed because this isn't actual tabular data!\n",
    "\n",
    "> You can use either Selenium by itself or Selenium+BeautifulSoup to scrape the results page. The choice is up to you!"
   ]
  },
  {
   "cell_type": "markdown",
   "metadata": {},
   "source": [
    "### Loop through each result and print the entire row\n",
    "\n",
    "Okay wait, maybe not, i's a heck of a lot of rows. Use `[:10]` to only do the first ten! For example, if you saved the table rows into `results` you might do something like this:\n",
    "\n",
    "```python\n",
    "for result in results[:10]:\n",
    "    print(result)\n",
    "```\n",
    "\n",
    "Although you'd want to print out the text from the row (I give example output below).\n",
    "\n",
    "> *Tip: If you're using Selenium, `By.TAG_NAME` is used if you don't have a class or ID. If you're using BeautifulSoup, just do your normal thing.*"
   ]
  },
  {
   "cell_type": "code",
   "execution_count": 5,
   "metadata": {},
   "outputs": [],
   "source": [
    "rows = driver.find_elements(By.TAG_NAME, \"tr\") "
   ]
  },
  {
   "cell_type": "code",
   "execution_count": 6,
   "metadata": {},
   "outputs": [
    {
     "name": "stdout",
     "output_type": "stream",
     "text": [
      "Name and Location Order Basis for Order\n",
      "NGUYEN, THANH\n",
      "City: FRISCO\n",
      "County: COLLIN\n",
      "Zip Code: 75034\n",
      "\n",
      "\n",
      "License #: 790672\n",
      "\n",
      "Complaint # COS20210004784 Date: 11/16/2021\n",
      "\n",
      "Respondent is assessed an administrative penalty in the amount of $1,875. Respondent failed to clean and sanitize whirlpool foot spas as required at the end of each day, the Department is charging 2 violations; Respondent operated a cosmetology salon without the appropriate license.\n",
      "NGUYEN, DAI T\n",
      "City: HOUSTON\n",
      "County: Harris\n",
      "Zip Code: 77034\n",
      "\n",
      "\n",
      "License #: 765339\n",
      "\n",
      "Complaint # COS20210005027 Date: 11/16/2021\n",
      "\n",
      "Respondent is assessed an administrative penalty in the amount of $1,500. Respondent failed to follow whirlpool foot spas cleaning and sanitization procedures as required; Respondent failed to keep a record of the date and time of each foot spa daily or bi-weekly cleaning and if the foot spa was not used; Respondent failed to store eyelash extensions in a sealed bag or covered container and kept in a clean dry debris-free storage area.\n",
      "NGUYEN, LONG D\n",
      "City: SAN SABA\n",
      "County: SAN SABA\n",
      "Zip Code: 76877\n",
      "\n",
      "\n",
      "License #(s): 760420, 1620583\n",
      "\n",
      "Complaint # COS20210009745 Date: 11/16/2021\n",
      "\n",
      "Respondent is assessed an administrative penalty in the amount of $1,550. Respondent failed to keep a record of the date and time of each foot spa daily or bi-weekly cleaning and if the foot spa was not used, the Department is charging 2 violations; Respondent failed to clean, disinfect, and sterilize manicure and pedicure implements after each use; Respondent failed to clean and disinfect manicure tables prior to use for each client.\n",
      "NGUYEN, LUCIE HUONG\n",
      "City: UVALDE\n",
      "County: UVALDE\n",
      "Zip Code: 78801\n",
      "\n",
      "\n",
      "License #(s): 762626, 1811788\n",
      "\n",
      "Complaint # COS20210011484 Date: 11/4/2021\n",
      "\n",
      "Respondent is assessed an administrative penalty in the amount of $1,375. Respondent failed to keep a record of the date and time of each foot spa daily or bi-weekly cleaning and if the foot spa was not used; Respondent failed to follow whirlpool foot spas cleaning and sanitization procedures as required; Respondent failed to clean, disinfect, and sterilize manicure and pedicure implements after each use; Respondent failed to clean and disinfect manicure tables prior to use for each client; Respondent failed to keep floors, walls, ceilings, shelves, furniture, furnishings, and fixtures clean and in good repair.\n",
      "NGUYEN, CHINH\n",
      "City: TEMPLE\n",
      "County: BELL\n",
      "Zip Code: 76502\n",
      "\n",
      "\n",
      "License #: 777067\n",
      "\n",
      "Complaint # COS20210011721 Date: 11/1/2021\n",
      "\n",
      "Respondent is assessed an administrative penalty in the amount of $4,225. Respondent failed to follow whirlpool foot spas cleaning and sanitization procedures as required bi-weekly; Respondent failed to keep a record of the date and time of each foot spa daily or bi-weekly cleaning and if the foot spa was not used, the Department is charging 4 violations; Respondent failed to clean and disinfect manicure tables prior to use for each client.\n",
      "NGUYEN, JIMMY\n",
      "City: ROWLETT\n",
      "County: DALLAS\n",
      "Zip Code: 75088\n",
      "\n",
      "\n",
      "License #: 796773\n",
      "\n",
      "Complaint # COS20200007069 Date: 10/13/2021\n",
      "\n",
      "Respondent is assessed an administrative penalty in the amount of $2,200. Respondent failed to clean and sanitize whirlpool foot spas as required at the end of each day; Respondent failed to keep a record of the date and time of each foot spa daily or bi-weekly cleaning and if the foot spa was not used.\n",
      "NGUYEN, NAM\n",
      "City: HOUSTON\n",
      "County: HARRIS\n",
      "Zip Code: 77025\n",
      "\n",
      "\n",
      "License #: 688039\n",
      "\n",
      "Complaint # COS20210010530 Date: 10/13/2021\n",
      "\n",
      "Respondents are assessed an administrative penalty in the amount of $1,875. Respondents failed to follow proper sequential cleaning and disinfecting procedures when using portable whirlpool jets; Respondents failed to clean, disinfect, and sterilize manicure and pedicure implements after each use; Respondents failed to maintain powdered alum, styptic powder, or a cyanoacrylate.\n",
      "NGUYEN, DUC\n",
      "City: ABILENE\n",
      "County: TAYLOR\n",
      "Zip Code: 79605\n",
      "\n",
      "\n",
      "License #: 758793\n",
      "\n",
      "Complaint # COS20200007141 Date: 10/12/2021\n",
      "\n",
      "Respondent is assessed an administrative penalty in the amount of $500. Respondent failed to clean and sanitize whirlpool foot spas as required at the end of each day.\n",
      "NGUYEN, THU THAO THI\n",
      "City: SAN ANTONIO\n",
      "County: BEXAR\n",
      "Zip Code: 78244\n",
      "\n",
      "\n",
      "License #(s): 802892, 1286737\n",
      "\n",
      "Complaint # COS20200000839 Date: 10/11/2021\n",
      "\n",
      "Respondent is assessed an administrative penalty in the amount of $3,800. Respondent performed or attempted to perform a practice of cosmetology with an expired license; Respondent failed to keep a record of the date and time of each foot spa daily or bi-weekly cleaning and if the foot spa was not used; Respondent failed to disinfect multi-use equipment, implements, and tools prior to use on each client; Respondent failed to keep floors, walls, ceilings, shelves, furniture, furnishings, and fixtures clean and in good repair.\n"
     ]
    }
   ],
   "source": [
    "for row in rows[:10]:\n",
    "    print(row.text)"
   ]
  },
  {
   "cell_type": "markdown",
   "metadata": {},
   "source": [
    "The result should look something like this:\n",
    "\n",
    "```\n",
    "Name and Location Order Basis for Order\n",
    "NGUYEN, THANH\n",
    "City: FRISCO\n",
    "County: COLLIN\n",
    "Zip Code: 75034\n",
    "\n",
    "\n",
    "License #: 790672\n",
    "\n",
    "Complaint # COS20210004784 Date: 11/16/2021\n",
    "\n",
    "Respondent is assessed an administrative penalty in the amount of $1,875. Respondent failed to clean and sanitize whirlpool foot spas as required at the end of each day, the Department is charging 2 violations; Respondent operated a cosmetology salon without the appropriate license.\n",
    "NGUYEN, LONG D\n",
    "City: SAN SABA\n",
    "County: SAN SABA\n",
    "Zip Code: 76877\n",
    "```"
   ]
  },
  {
   "cell_type": "markdown",
   "metadata": {},
   "source": [
    "### Loop through each result and print each person's name\n",
    "\n",
    "You'll get an error because the first one doesn't have a name. How do you make that not happen?! If you want to ignore an error, you use code like this:\n",
    "\n",
    "```python\n",
    "try:\n",
    "   # try to do something\n",
    "except:\n",
    "   print(\"It didn't work')\n",
    "```\n",
    "\n",
    "It should help you out. If you don't want to print anything when there's an error, you can type `pass` instead of the `print` statement.\n",
    "\n",
    "**Why doesn't the first one have a name?**\n",
    "\n",
    "Output should look like this:\n",
    "\n",
    "```\n",
    "Doesn't have a name\n",
    "NGUYEN, THANH\n",
    "NGUYEN, LONG D\n",
    "NGUYEN, LUCIE HUONG\n",
    "NGUYEN, CHINH\n",
    "NGUYEN, JIMMY\n",
    "```\n",
    "\n",
    "* *Tip: The name has a class you can use. The class name is reused in a lot of places, but because it's the first one you don't have to worry about that!*\n",
    "* *Tip: Instead of searching across the entire page – `driver.find_element` or `doc.select_one` – you should be doing your searching just inside of each **row** (I used this technique in the beginning of class with BeautifulSoup when we were scraping the books page)* "
   ]
  },
  {
   "cell_type": "code",
   "execution_count": 7,
   "metadata": {},
   "outputs": [
    {
     "name": "stdout",
     "output_type": "stream",
     "text": [
      "It didn't work\n",
      "NGUYEN, THANH\n",
      "NGUYEN, DAI T\n",
      "NGUYEN, LONG D\n",
      "NGUYEN, LUCIE HUONG\n",
      "NGUYEN, CHINH\n",
      "NGUYEN, JIMMY\n",
      "NGUYEN, NAM\n",
      "NGUYEN, DUC\n",
      "NGUYEN, THU THAO THI\n"
     ]
    }
   ],
   "source": [
    "for row in rows[:10]:\n",
    "    try:\n",
    "        print(row.find_element(By.CLASS_NAME, 'results_text').text)\n",
    "    except:\n",
    "        print(\"It didn't work\")\n",
    "    "
   ]
  },
  {
   "cell_type": "code",
   "execution_count": null,
   "metadata": {},
   "outputs": [],
   "source": []
  },
  {
   "cell_type": "markdown",
   "metadata": {},
   "source": [
    "## Loop through each result, printing each violation description (\"Basis for order\")\n",
    "\n",
    "Your results should look something like:\n",
    "\n",
    "```\n",
    "Doesn't have a violation\n",
    "Respondent failed to clean and sanitize whirlpool foot spas as required at the end of each day, the Department is charging 2 violations; Respondent operated a cosmetology salon without the appropriate license.\n",
    "Respondent failed to keep a record of the date and time of each foot spa daily or bi-weekly cleaning and if the foot spa was not used, the Department is charging 2 violations; Respondent failed to clean, disinfect, and sterilize manicure and pedicure implements after each use; Respondent failed to clean and disinfect manicure tables prior to use for each client.\n",
    "...\n",
    "```\n",
    "\n",
    "> - *Tip: You'll get an error even if you're ALMOST right - which row is causing the problem?*\n",
    "> - *Tip: If you're using Selenium by itself, you can get the HTML of something by doing `.get_attribute('innerHTML')` – that way it'll look like BeautifulSoup when you print it. It might help you diagnose your issue!*\n",
    "> - *Tip: Or I guess you could just skip the one with the problem...*"
   ]
  },
  {
   "cell_type": "code",
   "execution_count": 8,
   "metadata": {},
   "outputs": [
    {
     "name": "stdout",
     "output_type": "stream",
     "text": [
      "Respondent failed to clean and sanitize whirlpool foot spas as required at the end of each day, the Department is charging 2 violations; Respondent operated a cosmetology salon without the appropriate license.\n",
      "-----\n",
      "Respondent failed to follow whirlpool foot spas cleaning and sanitization procedures as required; Respondent failed to keep a record of the date and time of each foot spa daily or bi-weekly cleaning and if the foot spa was not used; Respondent failed to store eyelash extensions in a sealed bag or covered container and kept in a clean dry debris-free storage area.\n",
      "-----\n",
      "Respondent failed to keep a record of the date and time of each foot spa daily or bi-weekly cleaning and if the foot spa was not used, the Department is charging 2 violations; Respondent failed to clean, disinfect, and sterilize manicure and pedicure implements after each use; Respondent failed to clean and disinfect manicure tables prior to use for each client.\n",
      "-----\n",
      "Respondent failed to keep a record of the date and time of each foot spa daily or bi-weekly cleaning and if the foot spa was not used; Respondent failed to follow whirlpool foot spas cleaning and sanitization procedures as required; Respondent failed to clean, disinfect, and sterilize manicure and pedicure implements after each use; Respondent failed to clean and disinfect manicure tables prior to use for each client; Respondent failed to keep floors, walls, ceilings, shelves, furniture, furnishings, and fixtures clean and in good repair.\n",
      "-----\n",
      "Respondent failed to follow whirlpool foot spas cleaning and sanitization procedures as required bi-weekly; Respondent failed to keep a record of the date and time of each foot spa daily or bi-weekly cleaning and if the foot spa was not used, the Department is charging 4 violations; Respondent failed to clean and disinfect manicure tables prior to use for each client.\n",
      "-----\n",
      "Respondent failed to clean and sanitize whirlpool foot spas as required at the end of each day; Respondent failed to keep a record of the date and time of each foot spa daily or bi-weekly cleaning and if the foot spa was not used.\n",
      "-----\n",
      "Respondents failed to follow proper sequential cleaning and disinfecting procedures when using portable whirlpool jets; Respondents failed to clean, disinfect, and sterilize manicure and pedicure implements after each use; Respondents failed to maintain powdered alum, styptic powder, or a cyanoacrylate.\n",
      "-----\n",
      "Respondent failed to clean and sanitize whirlpool foot spas as required at the end of each day.\n",
      "-----\n",
      "Respondent performed or attempted to perform a practice of cosmetology with an expired license; Respondent failed to keep a record of the date and time of each foot spa daily or bi-weekly cleaning and if the foot spa was not used; Respondent failed to disinfect multi-use equipment, implements, and tools prior to use on each client; Respondent failed to keep floors, walls, ceilings, shelves, furniture, furnishings, and fixtures clean and in good repair.\n",
      "-----\n"
     ]
    }
   ],
   "source": [
    "for row in rows[1:10]:\n",
    "    print(row.find_elements(By.TAG_NAME, 'td')[2].text)  \n",
    "    print(\"-----\")"
   ]
  },
  {
   "cell_type": "code",
   "execution_count": null,
   "metadata": {},
   "outputs": [],
   "source": []
  },
  {
   "cell_type": "code",
   "execution_count": null,
   "metadata": {},
   "outputs": [],
   "source": []
  },
  {
   "cell_type": "markdown",
   "metadata": {},
   "source": [
    "## Loop through each result, printing the complaint number\n",
    "\n",
    "Output should look like this:\n",
    "\n",
    "```\n",
    "Doesn't have a complaint number\n",
    "COS20210004784\n",
    "COS20210009745\n",
    "COS20210011484\n",
    "...\n",
    "```\n",
    "\n",
    "- *Tip: Think about the order of the elements. Can you count from the opposite direction than you normally do?*"
   ]
  },
  {
   "cell_type": "code",
   "execution_count": null,
   "metadata": {},
   "outputs": [],
   "source": []
  },
  {
   "cell_type": "code",
   "execution_count": 9,
   "metadata": {},
   "outputs": [
    {
     "name": "stdout",
     "output_type": "stream",
     "text": [
      "It didn't work\n",
      "COS20210004784\n",
      "COS20210005027\n",
      "COS20210009745\n",
      "COS20210011484\n",
      "COS20210011721\n",
      "COS20200007069\n",
      "COS20210010530\n",
      "COS20200007141\n",
      "COS20200000839\n"
     ]
    }
   ],
   "source": [
    "for row in rows[:10]:\n",
    "    try:\n",
    "        print(row.find_elements(By.CLASS_NAME, 'results_text')[-2].text)\n",
    "    except:\n",
    "        print(\"It didn't work\")"
   ]
  },
  {
   "cell_type": "markdown",
   "metadata": {},
   "source": [
    "## Saving the results\n",
    "\n",
    "### Loop through each result to create a list of dictionaries\n",
    "\n",
    "Each dictionary must contain\n",
    "\n",
    "- Person's name\n",
    "- Violation description\n",
    "- Violation number\n",
    "- License Numbers\n",
    "- Zip Code\n",
    "- County\n",
    "- City\n",
    "\n",
    "Create a new dictionary for each result (except the header).\n",
    "\n",
    "Based on what you print out, the output might look something like:\n",
    "\n",
    "```\n",
    "This row is broken: Name and Location Order Basis for Order\n",
    "{'name': 'NGUYEN, THANH', 'city': 'FRISCO', 'county': 'COLLIN', 'zip_code': '75034', 'complaint_no': 'COS20210004784', 'license_numbers': '790672', 'complaint': 'Respondent failed to clean and sanitize whirlpool foot spas as required at the end of each day, the Department is charging 2 violations; Respondent operated a cosmetology salon without the appropriate license.'}\n",
    "{'name': 'NGUYEN, LONG D', 'city': 'SAN SABA', 'county': 'SAN SABA', 'zip_code': '76877', 'complaint_no': 'COS20210009745', 'license_numbers': '760420, 1620583', 'complaint': 'Respondent failed to keep a record of the date and time of each foot spa daily or bi-weekly cleaning and if the foot spa was not used, the Department is charging 2 violations; Respondent failed to clean, disinfect, and sterilize manicure and pedicure implements after each use; Respondent failed to clean and disinfect manicure tables prior to use for each client.'}\n",
    "```\n",
    "\n",
    "> *Tip: If you want to ask for the \"next sibling,\" you can't use `find_next_sibling` in Selenium, you need to use `element.find_element_by_xpath(\"following-sibling::div\")` to find the next div, or `element.find_element_by_xpath(\"following-sibling::*\")` to find the next anything."
   ]
  },
  {
   "cell_type": "code",
   "execution_count": 16,
   "metadata": {},
   "outputs": [
    {
     "ename": "NoSuchWindowException",
     "evalue": "Message: no such window: window was already closed\n  (Session info: chrome=96.0.4664.55)\nStacktrace:\n0   chromedriver                        0x0000000100636269 __gxx_personality_v0 + 582729\n1   chromedriver                        0x00000001005c1c33 __gxx_personality_v0 + 106003\n2   chromedriver                        0x000000010017ee28 chromedriver + 171560\n3   chromedriver                        0x000000010016ea95 chromedriver + 105109\n4   chromedriver                        0x000000010016ff42 chromedriver + 110402\n5   chromedriver                        0x0000000100168c22 chromedriver + 80930\n6   chromedriver                        0x00000001001802b3 chromedriver + 176819\n7   chromedriver                        0x00000001001e3b0c chromedriver + 584460\n8   chromedriver                        0x00000001001d1c23 chromedriver + 511011\n9   chromedriver                        0x00000001001a775e chromedriver + 337758\n10  chromedriver                        0x00000001001a8a95 chromedriver + 342677\n11  chromedriver                        0x00000001005f28ab __gxx_personality_v0 + 305803\n12  chromedriver                        0x0000000100609863 __gxx_personality_v0 + 399939\n13  chromedriver                        0x000000010060ec7f __gxx_personality_v0 + 421471\n14  chromedriver                        0x000000010060abba __gxx_personality_v0 + 404890\n15  chromedriver                        0x00000001005e6e51 __gxx_personality_v0 + 258097\n16  chromedriver                        0x0000000100626158 __gxx_personality_v0 + 516920\n17  chromedriver                        0x00000001006262e1 __gxx_personality_v0 + 517313\n18  chromedriver                        0x000000010063d6f8 __gxx_personality_v0 + 612568\n19  libsystem_pthread.dylib             0x00007ff817c3d514 _pthread_start + 125\n20  libsystem_pthread.dylib             0x00007ff817c3902f thread_start + 15\n",
     "output_type": "error",
     "traceback": [
      "\u001b[0;31m---------------------------------------------------------------------------\u001b[0m",
      "\u001b[0;31mNoSuchWindowException\u001b[0m                     Traceback (most recent call last)",
      "\u001b[0;32m/var/folders/m2/hbrfwp7911s5ykfcv0bl3bcc0000gn/T/ipykernel_27065/605607972.py\u001b[0m in \u001b[0;36m<module>\u001b[0;34m\u001b[0m\n\u001b[1;32m      1\u001b[0m \u001b[0mlist_of_dict\u001b[0m \u001b[0;34m=\u001b[0m \u001b[0;34m[\u001b[0m\u001b[0;34m]\u001b[0m\u001b[0;34m\u001b[0m\u001b[0;34m\u001b[0m\u001b[0m\n\u001b[1;32m      2\u001b[0m \u001b[0;34m\u001b[0m\u001b[0m\n\u001b[0;32m----> 3\u001b[0;31m \u001b[0mrows\u001b[0m \u001b[0;34m=\u001b[0m \u001b[0mdriver\u001b[0m\u001b[0;34m.\u001b[0m\u001b[0mfind_elements\u001b[0m\u001b[0;34m(\u001b[0m\u001b[0mBy\u001b[0m\u001b[0;34m.\u001b[0m\u001b[0mTAG_NAME\u001b[0m\u001b[0;34m,\u001b[0m \u001b[0;34m\"tr\"\u001b[0m\u001b[0;34m)\u001b[0m\u001b[0;34m\u001b[0m\u001b[0;34m\u001b[0m\u001b[0m\n\u001b[0m\u001b[1;32m      4\u001b[0m \u001b[0;34m\u001b[0m\u001b[0m\n\u001b[1;32m      5\u001b[0m \u001b[0;32mfor\u001b[0m \u001b[0mrow\u001b[0m \u001b[0;32min\u001b[0m \u001b[0mrows\u001b[0m\u001b[0;34m[\u001b[0m\u001b[0;36m1\u001b[0m\u001b[0;34m:\u001b[0m\u001b[0;36m10\u001b[0m\u001b[0;34m]\u001b[0m\u001b[0;34m:\u001b[0m\u001b[0;34m\u001b[0m\u001b[0;34m\u001b[0m\u001b[0m\n",
      "\u001b[0;32m~/.pyenv/versions/3.9.7/lib/python3.9/site-packages/selenium/webdriver/remote/webdriver.py\u001b[0m in \u001b[0;36mfind_elements\u001b[0;34m(self, by, value)\u001b[0m\n\u001b[1;32m   1277\u001b[0m         \u001b[0;31m# Return empty list if driver returns null\u001b[0m\u001b[0;34m\u001b[0m\u001b[0;34m\u001b[0m\u001b[0m\n\u001b[1;32m   1278\u001b[0m         \u001b[0;31m# See https://github.com/SeleniumHQ/selenium/issues/4555\u001b[0m\u001b[0;34m\u001b[0m\u001b[0;34m\u001b[0m\u001b[0m\n\u001b[0;32m-> 1279\u001b[0;31m         return self.execute(Command.FIND_ELEMENTS, {\n\u001b[0m\u001b[1;32m   1280\u001b[0m             \u001b[0;34m'using'\u001b[0m\u001b[0;34m:\u001b[0m \u001b[0mby\u001b[0m\u001b[0;34m,\u001b[0m\u001b[0;34m\u001b[0m\u001b[0;34m\u001b[0m\u001b[0m\n\u001b[1;32m   1281\u001b[0m             'value': value})['value'] or []\n",
      "\u001b[0;32m~/.pyenv/versions/3.9.7/lib/python3.9/site-packages/selenium/webdriver/remote/webdriver.py\u001b[0m in \u001b[0;36mexecute\u001b[0;34m(self, driver_command, params)\u001b[0m\n\u001b[1;32m    422\u001b[0m         \u001b[0mresponse\u001b[0m \u001b[0;34m=\u001b[0m \u001b[0mself\u001b[0m\u001b[0;34m.\u001b[0m\u001b[0mcommand_executor\u001b[0m\u001b[0;34m.\u001b[0m\u001b[0mexecute\u001b[0m\u001b[0;34m(\u001b[0m\u001b[0mdriver_command\u001b[0m\u001b[0;34m,\u001b[0m \u001b[0mparams\u001b[0m\u001b[0;34m)\u001b[0m\u001b[0;34m\u001b[0m\u001b[0;34m\u001b[0m\u001b[0m\n\u001b[1;32m    423\u001b[0m         \u001b[0;32mif\u001b[0m \u001b[0mresponse\u001b[0m\u001b[0;34m:\u001b[0m\u001b[0;34m\u001b[0m\u001b[0;34m\u001b[0m\u001b[0m\n\u001b[0;32m--> 424\u001b[0;31m             \u001b[0mself\u001b[0m\u001b[0;34m.\u001b[0m\u001b[0merror_handler\u001b[0m\u001b[0;34m.\u001b[0m\u001b[0mcheck_response\u001b[0m\u001b[0;34m(\u001b[0m\u001b[0mresponse\u001b[0m\u001b[0;34m)\u001b[0m\u001b[0;34m\u001b[0m\u001b[0;34m\u001b[0m\u001b[0m\n\u001b[0m\u001b[1;32m    425\u001b[0m             response['value'] = self._unwrap_value(\n\u001b[1;32m    426\u001b[0m                 response.get('value', None))\n",
      "\u001b[0;32m~/.pyenv/versions/3.9.7/lib/python3.9/site-packages/selenium/webdriver/remote/errorhandler.py\u001b[0m in \u001b[0;36mcheck_response\u001b[0;34m(self, response)\u001b[0m\n\u001b[1;32m    245\u001b[0m                 \u001b[0malert_text\u001b[0m \u001b[0;34m=\u001b[0m \u001b[0mvalue\u001b[0m\u001b[0;34m[\u001b[0m\u001b[0;34m'alert'\u001b[0m\u001b[0;34m]\u001b[0m\u001b[0;34m.\u001b[0m\u001b[0mget\u001b[0m\u001b[0;34m(\u001b[0m\u001b[0;34m'text'\u001b[0m\u001b[0;34m)\u001b[0m\u001b[0;34m\u001b[0m\u001b[0;34m\u001b[0m\u001b[0m\n\u001b[1;32m    246\u001b[0m             \u001b[0;32mraise\u001b[0m \u001b[0mexception_class\u001b[0m\u001b[0;34m(\u001b[0m\u001b[0mmessage\u001b[0m\u001b[0;34m,\u001b[0m \u001b[0mscreen\u001b[0m\u001b[0;34m,\u001b[0m \u001b[0mstacktrace\u001b[0m\u001b[0;34m,\u001b[0m \u001b[0malert_text\u001b[0m\u001b[0;34m)\u001b[0m  \u001b[0;31m# type: ignore[call-arg]  # mypy is not smart enough here\u001b[0m\u001b[0;34m\u001b[0m\u001b[0;34m\u001b[0m\u001b[0m\n\u001b[0;32m--> 247\u001b[0;31m         \u001b[0;32mraise\u001b[0m \u001b[0mexception_class\u001b[0m\u001b[0;34m(\u001b[0m\u001b[0mmessage\u001b[0m\u001b[0;34m,\u001b[0m \u001b[0mscreen\u001b[0m\u001b[0;34m,\u001b[0m \u001b[0mstacktrace\u001b[0m\u001b[0;34m)\u001b[0m\u001b[0;34m\u001b[0m\u001b[0;34m\u001b[0m\u001b[0m\n\u001b[0m\u001b[1;32m    248\u001b[0m \u001b[0;34m\u001b[0m\u001b[0m\n\u001b[1;32m    249\u001b[0m     \u001b[0;32mdef\u001b[0m \u001b[0m_value_or_default\u001b[0m\u001b[0;34m(\u001b[0m\u001b[0mself\u001b[0m\u001b[0;34m,\u001b[0m \u001b[0mobj\u001b[0m\u001b[0;34m:\u001b[0m \u001b[0mMapping\u001b[0m\u001b[0;34m[\u001b[0m\u001b[0m_KT\u001b[0m\u001b[0;34m,\u001b[0m \u001b[0m_VT\u001b[0m\u001b[0;34m]\u001b[0m\u001b[0;34m,\u001b[0m \u001b[0mkey\u001b[0m\u001b[0;34m:\u001b[0m \u001b[0m_KT\u001b[0m\u001b[0;34m,\u001b[0m \u001b[0mdefault\u001b[0m\u001b[0;34m:\u001b[0m \u001b[0m_VT\u001b[0m\u001b[0;34m)\u001b[0m \u001b[0;34m->\u001b[0m \u001b[0m_VT\u001b[0m\u001b[0;34m:\u001b[0m\u001b[0;34m\u001b[0m\u001b[0;34m\u001b[0m\u001b[0m\n",
      "\u001b[0;31mNoSuchWindowException\u001b[0m: Message: no such window: window was already closed\n  (Session info: chrome=96.0.4664.55)\nStacktrace:\n0   chromedriver                        0x0000000100636269 __gxx_personality_v0 + 582729\n1   chromedriver                        0x00000001005c1c33 __gxx_personality_v0 + 106003\n2   chromedriver                        0x000000010017ee28 chromedriver + 171560\n3   chromedriver                        0x000000010016ea95 chromedriver + 105109\n4   chromedriver                        0x000000010016ff42 chromedriver + 110402\n5   chromedriver                        0x0000000100168c22 chromedriver + 80930\n6   chromedriver                        0x00000001001802b3 chromedriver + 176819\n7   chromedriver                        0x00000001001e3b0c chromedriver + 584460\n8   chromedriver                        0x00000001001d1c23 chromedriver + 511011\n9   chromedriver                        0x00000001001a775e chromedriver + 337758\n10  chromedriver                        0x00000001001a8a95 chromedriver + 342677\n11  chromedriver                        0x00000001005f28ab __gxx_personality_v0 + 305803\n12  chromedriver                        0x0000000100609863 __gxx_personality_v0 + 399939\n13  chromedriver                        0x000000010060ec7f __gxx_personality_v0 + 421471\n14  chromedriver                        0x000000010060abba __gxx_personality_v0 + 404890\n15  chromedriver                        0x00000001005e6e51 __gxx_personality_v0 + 258097\n16  chromedriver                        0x0000000100626158 __gxx_personality_v0 + 516920\n17  chromedriver                        0x00000001006262e1 __gxx_personality_v0 + 517313\n18  chromedriver                        0x000000010063d6f8 __gxx_personality_v0 + 612568\n19  libsystem_pthread.dylib             0x00007ff817c3d514 _pthread_start + 125\n20  libsystem_pthread.dylib             0x00007ff817c3902f thread_start + 15\n"
     ]
    }
   ],
   "source": [
    "list_of_dict = []\n",
    "\n",
    "rows = driver.find_elements(By.TAG_NAME, \"tr\") \n",
    "\n",
    "for row in rows[1:10]:\n",
    "    dict = {}\n",
    "    dict['name:'] = row.find_elements(By.CLASS_NAME, 'results_text')[0].text\n",
    "    dict['city'] = row.find_elements(By.CLASS_NAME, 'results_text')[1].text\n",
    "    dict['county'] = row.find_elements(By.CLASS_NAME, 'results_text')[2].text\n",
    "    dict['zip_code'] = row.find_elements(By.CLASS_NAME, 'results_text')[3].text\n",
    "    dict['license_number'] = row.find_elements(By.CLASS_NAME, 'results_text')[4].text\n",
    "    dict['complaint_no'] = row.find_elements(By.CLASS_NAME, 'results_text')[5].text\n",
    "    dict['complaint'] = row.find_elements(By.TAG_NAME, 'td')[2].text\n",
    "    \n",
    "    list_of_dict.append(dict)\n",
    "list_of_dict"
   ]
  },
  {
   "cell_type": "code",
   "execution_count": null,
   "metadata": {},
   "outputs": [],
   "source": []
  },
  {
   "cell_type": "markdown",
   "metadata": {},
   "source": [
    "### Save that to a CSV named `output.csv`\n",
    "\n",
    "The dataframe should look something like...\n",
    "\n",
    "|index|name|city|county|zip_code|complaint_no|license_numbers|complaint|\n",
    "|---|---|---|---|---|---|---|---|\n",
    "|0|NGUYEN, THANH|FRISCO|COLLIN|75034|COS20210004784|790672|Respondent failed to clean and sanitize whirlp...|\n",
    "|1|NGUYEN, LONG D|SAN SABA|SAN SABA|76877|COS20210009745|760420, 1620583|Respondent failed to keep a record of the date...|\n",
    "\n",
    "\n",
    "- *Tip: If you send a list of dictionaries to `pd.DataFrame(...)`, it will create a dataframe out of that list!*"
   ]
  },
  {
   "cell_type": "code",
   "execution_count": 13,
   "metadata": {},
   "outputs": [
    {
     "data": {
      "text/html": [
       "<div>\n",
       "<style scoped>\n",
       "    .dataframe tbody tr th:only-of-type {\n",
       "        vertical-align: middle;\n",
       "    }\n",
       "\n",
       "    .dataframe tbody tr th {\n",
       "        vertical-align: top;\n",
       "    }\n",
       "\n",
       "    .dataframe thead th {\n",
       "        text-align: right;\n",
       "    }\n",
       "</style>\n",
       "<table border=\"1\" class=\"dataframe\">\n",
       "  <thead>\n",
       "    <tr style=\"text-align: right;\">\n",
       "      <th></th>\n",
       "      <th>name:</th>\n",
       "      <th>city</th>\n",
       "      <th>county</th>\n",
       "      <th>zip_code</th>\n",
       "      <th>license_number</th>\n",
       "      <th>complaint_no</th>\n",
       "      <th>complaint</th>\n",
       "    </tr>\n",
       "  </thead>\n",
       "  <tbody>\n",
       "    <tr>\n",
       "      <th>0</th>\n",
       "      <td>NGUYEN, THANH</td>\n",
       "      <td>FRISCO</td>\n",
       "      <td>COLLIN</td>\n",
       "      <td>75034</td>\n",
       "      <td>790672</td>\n",
       "      <td>COS20210004784</td>\n",
       "      <td>Respondent failed to clean and sanitize whirlp...</td>\n",
       "    </tr>\n",
       "    <tr>\n",
       "      <th>1</th>\n",
       "      <td>NGUYEN, DAI T</td>\n",
       "      <td>HOUSTON</td>\n",
       "      <td>Harris</td>\n",
       "      <td>77034</td>\n",
       "      <td>765339</td>\n",
       "      <td>COS20210005027</td>\n",
       "      <td>Respondent failed to follow whirlpool foot spa...</td>\n",
       "    </tr>\n",
       "    <tr>\n",
       "      <th>2</th>\n",
       "      <td>NGUYEN, LONG D</td>\n",
       "      <td>SAN SABA</td>\n",
       "      <td>SAN SABA</td>\n",
       "      <td>76877</td>\n",
       "      <td>760420, 1620583</td>\n",
       "      <td>COS20210009745</td>\n",
       "      <td>Respondent failed to keep a record of the date...</td>\n",
       "    </tr>\n",
       "    <tr>\n",
       "      <th>3</th>\n",
       "      <td>NGUYEN, LUCIE HUONG</td>\n",
       "      <td>UVALDE</td>\n",
       "      <td>UVALDE</td>\n",
       "      <td>78801</td>\n",
       "      <td>762626, 1811788</td>\n",
       "      <td>COS20210011484</td>\n",
       "      <td>Respondent failed to keep a record of the date...</td>\n",
       "    </tr>\n",
       "    <tr>\n",
       "      <th>4</th>\n",
       "      <td>NGUYEN, CHINH</td>\n",
       "      <td>TEMPLE</td>\n",
       "      <td>BELL</td>\n",
       "      <td>76502</td>\n",
       "      <td>777067</td>\n",
       "      <td>COS20210011721</td>\n",
       "      <td>Respondent failed to follow whirlpool foot spa...</td>\n",
       "    </tr>\n",
       "    <tr>\n",
       "      <th>5</th>\n",
       "      <td>NGUYEN, JIMMY</td>\n",
       "      <td>ROWLETT</td>\n",
       "      <td>DALLAS</td>\n",
       "      <td>75088</td>\n",
       "      <td>796773</td>\n",
       "      <td>COS20200007069</td>\n",
       "      <td>Respondent failed to clean and sanitize whirlp...</td>\n",
       "    </tr>\n",
       "    <tr>\n",
       "      <th>6</th>\n",
       "      <td>NGUYEN, NAM</td>\n",
       "      <td>HOUSTON</td>\n",
       "      <td>HARRIS</td>\n",
       "      <td>77025</td>\n",
       "      <td>688039</td>\n",
       "      <td>COS20210010530</td>\n",
       "      <td>Respondents failed to follow proper sequential...</td>\n",
       "    </tr>\n",
       "    <tr>\n",
       "      <th>7</th>\n",
       "      <td>NGUYEN, DUC</td>\n",
       "      <td>ABILENE</td>\n",
       "      <td>TAYLOR</td>\n",
       "      <td>79605</td>\n",
       "      <td>758793</td>\n",
       "      <td>COS20200007141</td>\n",
       "      <td>Respondent failed to clean and sanitize whirlp...</td>\n",
       "    </tr>\n",
       "    <tr>\n",
       "      <th>8</th>\n",
       "      <td>NGUYEN, THU THAO THI</td>\n",
       "      <td>SAN ANTONIO</td>\n",
       "      <td>BEXAR</td>\n",
       "      <td>78244</td>\n",
       "      <td>802892, 1286737</td>\n",
       "      <td>COS20200000839</td>\n",
       "      <td>Respondent performed or attempted to perform a...</td>\n",
       "    </tr>\n",
       "  </tbody>\n",
       "</table>\n",
       "</div>"
      ],
      "text/plain": [
       "                  name:         city    county zip_code   license_number  \\\n",
       "0         NGUYEN, THANH       FRISCO    COLLIN    75034           790672   \n",
       "1         NGUYEN, DAI T      HOUSTON    Harris    77034           765339   \n",
       "2        NGUYEN, LONG D     SAN SABA  SAN SABA    76877  760420, 1620583   \n",
       "3   NGUYEN, LUCIE HUONG       UVALDE    UVALDE    78801  762626, 1811788   \n",
       "4         NGUYEN, CHINH       TEMPLE      BELL    76502           777067   \n",
       "5         NGUYEN, JIMMY      ROWLETT    DALLAS    75088           796773   \n",
       "6           NGUYEN, NAM      HOUSTON    HARRIS    77025           688039   \n",
       "7           NGUYEN, DUC      ABILENE    TAYLOR    79605           758793   \n",
       "8  NGUYEN, THU THAO THI  SAN ANTONIO     BEXAR    78244  802892, 1286737   \n",
       "\n",
       "     complaint_no                                          complaint  \n",
       "0  COS20210004784  Respondent failed to clean and sanitize whirlp...  \n",
       "1  COS20210005027  Respondent failed to follow whirlpool foot spa...  \n",
       "2  COS20210009745  Respondent failed to keep a record of the date...  \n",
       "3  COS20210011484  Respondent failed to keep a record of the date...  \n",
       "4  COS20210011721  Respondent failed to follow whirlpool foot spa...  \n",
       "5  COS20200007069  Respondent failed to clean and sanitize whirlp...  \n",
       "6  COS20210010530  Respondents failed to follow proper sequential...  \n",
       "7  COS20200007141  Respondent failed to clean and sanitize whirlp...  \n",
       "8  COS20200000839  Respondent performed or attempted to perform a...  "
      ]
     },
     "execution_count": 13,
     "metadata": {},
     "output_type": "execute_result"
    }
   ],
   "source": [
    "df = pd.DataFrame(list_of_dict)\n",
    "df"
   ]
  },
  {
   "cell_type": "code",
   "execution_count": 14,
   "metadata": {},
   "outputs": [],
   "source": [
    "df.to_csv('output.csv')"
   ]
  },
  {
   "cell_type": "markdown",
   "metadata": {},
   "source": [
    "### Open the CSV file and examine the first few. Make sure you didn't save an extra weird unnamed column."
   ]
  },
  {
   "cell_type": "code",
   "execution_count": 15,
   "metadata": {},
   "outputs": [
    {
     "data": {
      "text/html": [
       "<div>\n",
       "<style scoped>\n",
       "    .dataframe tbody tr th:only-of-type {\n",
       "        vertical-align: middle;\n",
       "    }\n",
       "\n",
       "    .dataframe tbody tr th {\n",
       "        vertical-align: top;\n",
       "    }\n",
       "\n",
       "    .dataframe thead th {\n",
       "        text-align: right;\n",
       "    }\n",
       "</style>\n",
       "<table border=\"1\" class=\"dataframe\">\n",
       "  <thead>\n",
       "    <tr style=\"text-align: right;\">\n",
       "      <th></th>\n",
       "      <th>name:</th>\n",
       "      <th>city</th>\n",
       "      <th>county</th>\n",
       "      <th>zip_code</th>\n",
       "      <th>license_number</th>\n",
       "      <th>complaint_no</th>\n",
       "      <th>complaint</th>\n",
       "    </tr>\n",
       "  </thead>\n",
       "  <tbody>\n",
       "    <tr>\n",
       "      <th>0</th>\n",
       "      <td>NGUYEN, THANH</td>\n",
       "      <td>FRISCO</td>\n",
       "      <td>COLLIN</td>\n",
       "      <td>75034</td>\n",
       "      <td>790672</td>\n",
       "      <td>COS20210004784</td>\n",
       "      <td>Respondent failed to clean and sanitize whirlp...</td>\n",
       "    </tr>\n",
       "    <tr>\n",
       "      <th>1</th>\n",
       "      <td>NGUYEN, DAI T</td>\n",
       "      <td>HOUSTON</td>\n",
       "      <td>Harris</td>\n",
       "      <td>77034</td>\n",
       "      <td>765339</td>\n",
       "      <td>COS20210005027</td>\n",
       "      <td>Respondent failed to follow whirlpool foot spa...</td>\n",
       "    </tr>\n",
       "    <tr>\n",
       "      <th>2</th>\n",
       "      <td>NGUYEN, LONG D</td>\n",
       "      <td>SAN SABA</td>\n",
       "      <td>SAN SABA</td>\n",
       "      <td>76877</td>\n",
       "      <td>760420, 1620583</td>\n",
       "      <td>COS20210009745</td>\n",
       "      <td>Respondent failed to keep a record of the date...</td>\n",
       "    </tr>\n",
       "    <tr>\n",
       "      <th>3</th>\n",
       "      <td>NGUYEN, LUCIE HUONG</td>\n",
       "      <td>UVALDE</td>\n",
       "      <td>UVALDE</td>\n",
       "      <td>78801</td>\n",
       "      <td>762626, 1811788</td>\n",
       "      <td>COS20210011484</td>\n",
       "      <td>Respondent failed to keep a record of the date...</td>\n",
       "    </tr>\n",
       "    <tr>\n",
       "      <th>4</th>\n",
       "      <td>NGUYEN, CHINH</td>\n",
       "      <td>TEMPLE</td>\n",
       "      <td>BELL</td>\n",
       "      <td>76502</td>\n",
       "      <td>777067</td>\n",
       "      <td>COS20210011721</td>\n",
       "      <td>Respondent failed to follow whirlpool foot spa...</td>\n",
       "    </tr>\n",
       "  </tbody>\n",
       "</table>\n",
       "</div>"
      ],
      "text/plain": [
       "                 name:      city    county zip_code   license_number  \\\n",
       "0        NGUYEN, THANH    FRISCO    COLLIN    75034           790672   \n",
       "1        NGUYEN, DAI T   HOUSTON    Harris    77034           765339   \n",
       "2       NGUYEN, LONG D  SAN SABA  SAN SABA    76877  760420, 1620583   \n",
       "3  NGUYEN, LUCIE HUONG    UVALDE    UVALDE    78801  762626, 1811788   \n",
       "4        NGUYEN, CHINH    TEMPLE      BELL    76502           777067   \n",
       "\n",
       "     complaint_no                                          complaint  \n",
       "0  COS20210004784  Respondent failed to clean and sanitize whirlp...  \n",
       "1  COS20210005027  Respondent failed to follow whirlpool foot spa...  \n",
       "2  COS20210009745  Respondent failed to keep a record of the date...  \n",
       "3  COS20210011484  Respondent failed to keep a record of the date...  \n",
       "4  COS20210011721  Respondent failed to follow whirlpool foot spa...  "
      ]
     },
     "execution_count": 15,
     "metadata": {},
     "output_type": "execute_result"
    }
   ],
   "source": [
    "df.head()"
   ]
  },
  {
   "cell_type": "code",
   "execution_count": null,
   "metadata": {},
   "outputs": [],
   "source": []
  }
 ],
 "metadata": {
  "kernelspec": {
   "display_name": "Python 3 (ipykernel)",
   "language": "python",
   "name": "python3"
  },
  "language_info": {
   "codemirror_mode": {
    "name": "ipython",
    "version": 3
   },
   "file_extension": ".py",
   "mimetype": "text/x-python",
   "name": "python",
   "nbconvert_exporter": "python",
   "pygments_lexer": "ipython3",
   "version": "3.9.7"
  }
 },
 "nbformat": 4,
 "nbformat_minor": 2
}
